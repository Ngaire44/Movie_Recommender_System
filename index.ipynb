{
 "cells": [
  {
   "cell_type": "markdown",
   "id": "80056ac8",
   "metadata": {},
   "source": [
    "# AfroTech Company"
   ]
  },
  {
   "cell_type": "markdown",
   "id": "888fd681",
   "metadata": {},
   "source": [
    "# Business Understanding\n",
    "\n",
    "AfroTech Company is developing a movie recommendation engine for streaming platforms to enhance user experience through personalized content suggestions. With the rapid expansion of digital movie libraries, users often struggle to discover content aligned with their interests. This leads to decision fatigue, reduced engagement, and increased churn, while valuable content remains underutilized.\n",
    "\n",
    "To address this, AfroTech’s system will use collaborative filtering techniques—specifically Singular Value Decomposition (SVD) and Least Squares Optimization—to uncover latent patterns in user preferences and movie features. The model will predict unseen ratings and generate relevant recommendations, helping users find content more efficiently.\n",
    "\n",
    "The primary business objectives are to improve user satisfaction, increase engagement, enhance content discovery, and support long-term user retention through personalized experiences.\n",
    "\n",
    "Success will be measured by:\n",
    "- Achieving an RMSE of 0.90 or lower (or MAE <= 0.70) for accurate predictions,\n",
    "- Reaching at least 95% coverage of users and movies,\n",
    "- Maintaining a click-through rate of 20% or higher on recommendations,\n",
    "- Ensuring an average time to first watch under three minutes,\n",
    "- Achieving 70% user retention over 30 days,\n",
    "- And maintaining a cosine similarity of 0.85 or higher between latent feature vectors across training runs.\n",
    "\n",
    "These outcomes will demonstrate the system’s ability to deliver accurate, scalable, and user-focused recommendations that align with AfroTech’s business goals.\n",
    "\n"
   ]
  },
  {
   "cell_type": "markdown",
   "id": "1bef3a01",
   "metadata": {},
   "source": [
    "# Data Understanding"
   ]
  },
  {
   "cell_type": "code",
   "execution_count": 1,
   "id": "58895fa7",
   "metadata": {},
   "outputs": [],
   "source": [
    "#import libraries\n",
    "import pandas as pd\n",
    "import matplotlib.pyplot as plt\n",
    "\n",
    "from surprise import Reader, Dataset, SVD\n",
    "from surprise import accuracy, KNNBasic\n",
    "from surprise.model_selection import cross_validate, train_test_split\n",
    "\n",
    "from sklearn.metrics.pairwise import cosine_similarity\n",
    "import warnings\n",
    "warnings.filterwarnings('ignore')\n"
   ]
  },
  {
   "cell_type": "markdown",
   "id": "dd4f6905",
   "metadata": {},
   "source": [
    "explanation of the libraries!:\n",
    "- surprise is the library for recommender systems\n",
    "- Dataset is for the datasets, duh!\n",
    "- Reader defines the rating scale [1-5]\n",
    "- cross_validate checks model perfomance(hii tushasoma sistee)"
   ]
  },
  {
   "cell_type": "code",
   "execution_count": 2,
   "id": "c47cad51",
   "metadata": {},
   "outputs": [],
   "source": [
    "# #load dataset (movie lens )\n",
    "# #it's built in the surprise library\n",
    "# r = Dataset.load_builtin('ml-100k')\n",
    "\n",
    "# d = pd.DataFrame(r.raw_ratings, columns=['user_id','movie_id','rating','timestamp'])\n",
    "# d[:3]"
   ]
  },
  {
   "cell_type": "code",
   "execution_count": 3,
   "id": "e831b53c",
   "metadata": {},
   "outputs": [
    {
     "name": "stdout",
     "output_type": "stream",
     "text": [
      "Movies:\n",
      "   movieId                    title  \\\n",
      "0        1         Toy Story (1995)   \n",
      "1        2           Jumanji (1995)   \n",
      "2        3  Grumpier Old Men (1995)   \n",
      "\n",
      "                                        genres  \n",
      "0  Adventure|Animation|Children|Comedy|Fantasy  \n",
      "1                   Adventure|Children|Fantasy  \n",
      "2                               Comedy|Romance  \n",
      "\n",
      "Links:\n",
      "   movieId  imdbId   tmdbId\n",
      "0        1  114709    862.0\n",
      "1        2  113497   8844.0\n",
      "2        3  113228  15602.0\n",
      "\n",
      "Ratings:\n",
      "   userId  movieId  rating  timestamp\n",
      "0       1        1     4.0  964982703\n",
      "1       1        3     4.0  964981247\n",
      "2       1        6     4.0  964982224\n",
      "\n",
      "Tags:\n",
      "   userId  movieId              tag   timestamp\n",
      "0       2    60756            funny  1445714994\n",
      "1       2    60756  Highly quotable  1445714996\n",
      "2       2    60756     will ferrell  1445714992\n",
      "\n"
     ]
    }
   ],
   "source": [
    "#load the datasets\n",
    "links = pd.read_csv('ml-latest-small/links.csv')\n",
    "movies = pd.read_csv('ml-latest-small/movies.csv')\n",
    "ratings = pd.read_csv('ml-latest-small/ratings.csv')\n",
    "tags = pd.read_csv('ml-latest-small/tags.csv')\n",
    "print(f'Movies:\\n{movies[:3]}\\n')\n",
    "print(f'Links:\\n{links[:3]}\\n')\n",
    "print(f'Ratings:\\n{ratings[:3]}\\n')\n",
    "print(f'Tags:\\n{tags[:3]}\\n')"
   ]
  },
  {
   "cell_type": "markdown",
   "id": "11b829f9",
   "metadata": {},
   "source": [
    "The datasets contains columns:\n",
    "- ratings.csv: userId, movieId, rating, timestamp -> this is the core data for matrix factorization.\n",
    "- movies.csv: movieId, title, genres -> essential for naming recommendations and possible genre analysis.\n",
    "- tags.csv: userId, movieId, tag, timestamp -> optional for content-based hybrid recommendations (could enrich model later).\n",
    "- links.csv: movieId, imdbId, tmdbId -> useful if you want to pull external metadata (optional for now) for deployment.\n",
    "\n",
    "Observation:\n",
    "- All datasets have a column 'movieId'\n",
    "- in data cleaning we will have all the column names in lowecase"
   ]
  },
  {
   "cell_type": "markdown",
   "id": "6cfc21d9",
   "metadata": {},
   "source": [
    "# Data Cleaning"
   ]
  },
  {
   "cell_type": "markdown",
   "id": "82240eaa",
   "metadata": {},
   "source": [
    "1. Ratings"
   ]
  },
  {
   "cell_type": "code",
   "execution_count": 4,
   "id": "505e0f64",
   "metadata": {},
   "outputs": [
    {
     "data": {
      "application/vnd.microsoft.datawrangler.viewer.v0+json": {
       "columns": [
        {
         "name": "index",
         "rawType": "object",
         "type": "string"
        },
        {
         "name": "userId",
         "rawType": "float64",
         "type": "float"
        },
        {
         "name": "movieId",
         "rawType": "float64",
         "type": "float"
        },
        {
         "name": "rating",
         "rawType": "float64",
         "type": "float"
        },
        {
         "name": "timestamp",
         "rawType": "float64",
         "type": "float"
        }
       ],
       "ref": "5cb560f0-af50-45fa-9096-6c2bcd4f4235",
       "rows": [
        [
         "count",
         "100836.0",
         "100836.0",
         "100836.0",
         "100836.0"
        ],
        [
         "mean",
         "326.12756356856676",
         "19435.2957177992",
         "3.501556983616962",
         "1205946087.3684695"
        ],
        [
         "std",
         "182.61849146349994",
         "35530.98719870018",
         "1.042529239060635",
         "216261035.99513158"
        ],
        [
         "min",
         "1.0",
         "1.0",
         "0.5",
         "828124615.0"
        ],
        [
         "25%",
         "177.0",
         "1199.0",
         "3.0",
         "1019123866.0"
        ],
        [
         "50%",
         "325.0",
         "2991.0",
         "3.5",
         "1186086662.0"
        ],
        [
         "75%",
         "477.0",
         "8122.0",
         "4.0",
         "1435994144.5"
        ],
        [
         "max",
         "610.0",
         "193609.0",
         "5.0",
         "1537799250.0"
        ]
       ],
       "shape": {
        "columns": 4,
        "rows": 8
       }
      },
      "text/html": [
       "<div>\n",
       "<style scoped>\n",
       "    .dataframe tbody tr th:only-of-type {\n",
       "        vertical-align: middle;\n",
       "    }\n",
       "\n",
       "    .dataframe tbody tr th {\n",
       "        vertical-align: top;\n",
       "    }\n",
       "\n",
       "    .dataframe thead th {\n",
       "        text-align: right;\n",
       "    }\n",
       "</style>\n",
       "<table border=\"1\" class=\"dataframe\">\n",
       "  <thead>\n",
       "    <tr style=\"text-align: right;\">\n",
       "      <th></th>\n",
       "      <th>userId</th>\n",
       "      <th>movieId</th>\n",
       "      <th>rating</th>\n",
       "      <th>timestamp</th>\n",
       "    </tr>\n",
       "  </thead>\n",
       "  <tbody>\n",
       "    <tr>\n",
       "      <th>count</th>\n",
       "      <td>100836.000000</td>\n",
       "      <td>100836.000000</td>\n",
       "      <td>100836.000000</td>\n",
       "      <td>1.008360e+05</td>\n",
       "    </tr>\n",
       "    <tr>\n",
       "      <th>mean</th>\n",
       "      <td>326.127564</td>\n",
       "      <td>19435.295718</td>\n",
       "      <td>3.501557</td>\n",
       "      <td>1.205946e+09</td>\n",
       "    </tr>\n",
       "    <tr>\n",
       "      <th>std</th>\n",
       "      <td>182.618491</td>\n",
       "      <td>35530.987199</td>\n",
       "      <td>1.042529</td>\n",
       "      <td>2.162610e+08</td>\n",
       "    </tr>\n",
       "    <tr>\n",
       "      <th>min</th>\n",
       "      <td>1.000000</td>\n",
       "      <td>1.000000</td>\n",
       "      <td>0.500000</td>\n",
       "      <td>8.281246e+08</td>\n",
       "    </tr>\n",
       "    <tr>\n",
       "      <th>25%</th>\n",
       "      <td>177.000000</td>\n",
       "      <td>1199.000000</td>\n",
       "      <td>3.000000</td>\n",
       "      <td>1.019124e+09</td>\n",
       "    </tr>\n",
       "    <tr>\n",
       "      <th>50%</th>\n",
       "      <td>325.000000</td>\n",
       "      <td>2991.000000</td>\n",
       "      <td>3.500000</td>\n",
       "      <td>1.186087e+09</td>\n",
       "    </tr>\n",
       "    <tr>\n",
       "      <th>75%</th>\n",
       "      <td>477.000000</td>\n",
       "      <td>8122.000000</td>\n",
       "      <td>4.000000</td>\n",
       "      <td>1.435994e+09</td>\n",
       "    </tr>\n",
       "    <tr>\n",
       "      <th>max</th>\n",
       "      <td>610.000000</td>\n",
       "      <td>193609.000000</td>\n",
       "      <td>5.000000</td>\n",
       "      <td>1.537799e+09</td>\n",
       "    </tr>\n",
       "  </tbody>\n",
       "</table>\n",
       "</div>"
      ],
      "text/plain": [
       "              userId        movieId         rating     timestamp\n",
       "count  100836.000000  100836.000000  100836.000000  1.008360e+05\n",
       "mean      326.127564   19435.295718       3.501557  1.205946e+09\n",
       "std       182.618491   35530.987199       1.042529  2.162610e+08\n",
       "min         1.000000       1.000000       0.500000  8.281246e+08\n",
       "25%       177.000000    1199.000000       3.000000  1.019124e+09\n",
       "50%       325.000000    2991.000000       3.500000  1.186087e+09\n",
       "75%       477.000000    8122.000000       4.000000  1.435994e+09\n",
       "max       610.000000  193609.000000       5.000000  1.537799e+09"
      ]
     },
     "execution_count": 4,
     "metadata": {},
     "output_type": "execute_result"
    }
   ],
   "source": [
    "ratings.describe()"
   ]
  },
  {
   "cell_type": "code",
   "execution_count": 5,
   "id": "97469c01",
   "metadata": {},
   "outputs": [
    {
     "name": "stdout",
     "output_type": "stream",
     "text": [
      "The datatypes are:\n",
      "userId         int64\n",
      "movieId        int64\n",
      "rating       float64\n",
      "timestamp      int64\n",
      "dtype: object\n",
      "\n",
      "Ratings has 100836 rows and 4columns\n",
      "\n",
      "Ratings has:\n",
      "userId       0\n",
      "movieId      0\n",
      "rating       0\n",
      "timestamp    0\n",
      "dtype: int64 missing values\n",
      "\n",
      "Ratings has:0 duplicates\n",
      "Index(['userid', 'movieid', 'rating', 'timestamp'], dtype='object')\n"
     ]
    }
   ],
   "source": [
    "#check data types, shape, duplicates and missing values in ratings\n",
    "print(f'The datatypes are:\\n{ratings.dtypes}\\n')\n",
    "print(f'Ratings has {ratings.shape[0]} rows and {ratings.shape[1]}columns\\n')\n",
    "print(f'Ratings has:\\n{ratings.isna().sum()} missing values\\n')\n",
    "print(f'Ratings has:{ratings.duplicated().sum()} duplicates')\n",
    "\n",
    "# have all column names in lowercase\n",
    "ratings.columns = ratings.columns.str.lower()\n",
    "print(ratings.columns)"
   ]
  },
  {
   "cell_type": "markdown",
   "id": "b9c31c7f",
   "metadata": {},
   "source": [
    "2. Movies"
   ]
  },
  {
   "cell_type": "code",
   "execution_count": 6,
   "id": "e56b0771",
   "metadata": {},
   "outputs": [
    {
     "name": "stdout",
     "output_type": "stream",
     "text": [
      "The datatypes are:\n",
      "movieId     int64\n",
      "title      object\n",
      "genres     object\n",
      "dtype: object\n",
      "\n",
      "Movies has 9742 rows and 3columns\n",
      "\n",
      "Movies has:\n",
      "movieId    0\n",
      "title      0\n",
      "genres     0\n",
      "dtype: int64 missing values\n",
      "\n",
      "Movies has:0 duplicates\n",
      "Index(['movieid', 'title', 'genres'], dtype='object')\n"
     ]
    }
   ],
   "source": [
    "#check data types, shape, duplicates and missing values in movies\n",
    "print(f'The datatypes are:\\n{movies.dtypes}\\n')\n",
    "print(f'Movies has {movies.shape[0]} rows and {movies.shape[1]}columns\\n')\n",
    "print(f'Movies has:\\n{movies.isna().sum()} missing values\\n')\n",
    "print(f'Movies has:{movies.duplicated().sum()} duplicates')\n",
    "\n",
    "# have all column names in lowercase\n",
    "movies.columns = movies.columns.str.lower()\n",
    "print(movies.columns)"
   ]
  },
  {
   "cell_type": "markdown",
   "id": "df517e75",
   "metadata": {},
   "source": [
    "3. Links"
   ]
  },
  {
   "cell_type": "code",
   "execution_count": 7,
   "id": "7f370a18",
   "metadata": {},
   "outputs": [
    {
     "name": "stdout",
     "output_type": "stream",
     "text": [
      "The datatypes are:\n",
      "movieId      int64\n",
      "imdbId       int64\n",
      "tmdbId     float64\n",
      "dtype: object\n",
      "\n",
      "links has 9742 rows and 3columns\n",
      "\n",
      "links has:\n",
      "movieId    0\n",
      "imdbId     0\n",
      "tmdbId     8\n",
      "dtype: int64 missing values\n",
      "\n",
      "links has:0 duplicates\n",
      "Index(['movieid', 'imdbid', 'tmdbid'], dtype='object')\n"
     ]
    }
   ],
   "source": [
    "#check data types, shape, duplicates and missing values in links\n",
    "print(f'The datatypes are:\\n{links.dtypes}\\n')\n",
    "print(f'links has {links.shape[0]} rows and {links.shape[1]}columns\\n')\n",
    "print(f'links has:\\n{links.isna().sum()} missing values\\n')\n",
    "print(f'links has:{links.duplicated().sum()} duplicates')\n",
    "\n",
    "# have all column names in lowercase\n",
    "links.columns = links.columns.str.lower()\n",
    "print(links.columns)"
   ]
  },
  {
   "cell_type": "code",
   "execution_count": 8,
   "id": "28f5c266",
   "metadata": {},
   "outputs": [
    {
     "name": "stdout",
     "output_type": "stream",
     "text": [
      "(9734, 3)\n"
     ]
    }
   ],
   "source": [
    "# drop the missing values in tmbdid\n",
    "links = links.dropna()\n",
    "links.isna().sum()\n",
    "print(links.shape)"
   ]
  },
  {
   "cell_type": "markdown",
   "id": "dd81b287",
   "metadata": {},
   "source": [
    "4. tags"
   ]
  },
  {
   "cell_type": "code",
   "execution_count": 9,
   "id": "2d68b5c8",
   "metadata": {},
   "outputs": [
    {
     "name": "stdout",
     "output_type": "stream",
     "text": [
      "The datatypes are:\n",
      "userId        int64\n",
      "movieId       int64\n",
      "tag          object\n",
      "timestamp     int64\n",
      "dtype: object\n",
      "\n",
      "tags has 3683 rows and 4columns\n",
      "\n",
      "tags has:\n",
      "userId       0\n",
      "movieId      0\n",
      "tag          0\n",
      "timestamp    0\n",
      "dtype: int64 missing values\n",
      "\n",
      "tags has:0 duplicates\n"
     ]
    }
   ],
   "source": [
    "#check data types, shape, duplicates and missing values in tags\n",
    "print(f'The datatypes are:\\n{tags.dtypes}\\n')\n",
    "print(f'tags has {tags.shape[0]} rows and {tags.shape[1]}columns\\n')\n",
    "print(f'tags has:\\n{tags.isna().sum()} missing values\\n')\n",
    "print(f'tags has:{tags.duplicated().sum()} duplicates')\n",
    "\n",
    "# have all column names in lowercase\n",
    "tags.columns = tags.columns.str.lower()"
   ]
  },
  {
   "cell_type": "code",
   "execution_count": 10,
   "id": "ed775bf6",
   "metadata": {},
   "outputs": [
    {
     "data": {
      "application/vnd.microsoft.datawrangler.viewer.v0+json": {
       "columns": [
        {
         "name": "tag",
         "rawType": "object",
         "type": "string"
        },
        {
         "name": "count",
         "rawType": "int64",
         "type": "integer"
        }
       ],
       "ref": "0c118b6f-4279-4833-8b77-01335462ce06",
       "rows": [
        [
         "In Netflix queue",
         "131"
        ],
        [
         "atmospheric",
         "36"
        ],
        [
         "thought-provoking",
         "24"
        ],
        [
         "superhero",
         "24"
        ],
        [
         "funny",
         "23"
        ],
        [
         "surreal",
         "23"
        ],
        [
         "Disney",
         "23"
        ],
        [
         "religion",
         "22"
        ],
        [
         "sci-fi",
         "21"
        ],
        [
         "quirky",
         "21"
        ],
        [
         "dark comedy",
         "21"
        ],
        [
         "psychology",
         "21"
        ],
        [
         "suspense",
         "20"
        ],
        [
         "twist ending",
         "19"
        ],
        [
         "visually appealing",
         "19"
        ],
        [
         "crime",
         "19"
        ],
        [
         "politics",
         "18"
        ],
        [
         "mental illness",
         "16"
        ],
        [
         "music",
         "16"
        ],
        [
         "time travel",
         "16"
        ],
        [
         "comedy",
         "15"
        ],
        [
         "aliens",
         "15"
        ],
        [
         "dark",
         "15"
        ],
        [
         "dreamlike",
         "14"
        ],
        [
         "space",
         "14"
        ],
        [
         "mindfuck",
         "14"
        ],
        [
         "black comedy",
         "13"
        ],
        [
         "heist",
         "13"
        ],
        [
         "emotional",
         "13"
        ],
        [
         "high school",
         "12"
        ],
        [
         "action",
         "12"
        ],
        [
         "anime",
         "12"
        ],
        [
         "disturbing",
         "12"
        ],
        [
         "satire",
         "12"
        ],
        [
         "court",
         "12"
        ],
        [
         "journalism",
         "12"
        ],
        [
         "Stephen King",
         "12"
        ],
        [
         "Shakespeare",
         "12"
        ],
        [
         "classic",
         "11"
        ],
        [
         "adolescence",
         "11"
        ],
        [
         "imdb top 250",
         "11"
        ],
        [
         "psychological",
         "11"
        ],
        [
         "comic book",
         "11"
        ],
        [
         "Holocaust",
         "11"
        ],
        [
         "boxing",
         "11"
        ],
        [
         "adultery",
         "11"
        ],
        [
         "Australia",
         "10"
        ],
        [
         "robots",
         "10"
        ],
        [
         "ghosts",
         "10"
        ],
        [
         "drugs",
         "10"
        ]
       ],
       "shape": {
        "columns": 1,
        "rows": 1589
       }
      },
      "text/plain": [
       "tag\n",
       "In Netflix queue     131\n",
       "atmospheric           36\n",
       "thought-provoking     24\n",
       "superhero             24\n",
       "funny                 23\n",
       "                    ... \n",
       "small towns            1\n",
       "In Your Eyes           1\n",
       "Lloyd Dobbler          1\n",
       "weak plot              1\n",
       "Heroic Bloodshed       1\n",
       "Name: count, Length: 1589, dtype: int64"
      ]
     },
     "execution_count": 10,
     "metadata": {},
     "output_type": "execute_result"
    }
   ],
   "source": [
    "tag_characters = tags['tag'].value_counts()\n",
    "tag_characters"
   ]
  },
  {
   "cell_type": "markdown",
   "id": "6c56be28",
   "metadata": {},
   "source": [
    "Observation:\n",
    "- The tags dataset has the least amount of rows compared to the other 3 datasets\n",
    " * Upside:\n",
    "  - It may be useful to use when recommending using content-based features\n",
    "    - eg-> when recommending 'thrillers' to a user who rated a thriller highly\n",
    "  - It makes it easy to explain why we recommend a certain movie\n",
    "    - eg-> recommended because you liked horror movies\n",
    "  - it makes the recommendation diverse since it combines latent factors with tag-based similarities\n",
    "  - We could cluster the tags to group movies by themes (cosine similarities)\n",
    "* Downside:\n",
    "  - The dataset is too small comapred to ratings with more than 10k entries\n",
    "  - Since tags are user generated, some of the entries may lack meaning to us\n",
    "    - eg-> a users entry like 'beautiful' may not be meaningful information to us\n",
    "- Due to lack of quality and sizable info from tags, we will hae to let it go (not merge)\n",
    "- Movie genres will have to work in place of tags"
   ]
  },
  {
   "cell_type": "markdown",
   "id": "99ae4487",
   "metadata": {},
   "source": [
    "### Merging the datasets"
   ]
  },
  {
   "cell_type": "code",
   "execution_count": 11,
   "id": "1127ed5a",
   "metadata": {},
   "outputs": [
    {
     "data": {
      "application/vnd.microsoft.datawrangler.viewer.v0+json": {
       "columns": [
        {
         "name": "index",
         "rawType": "int64",
         "type": "integer"
        },
        {
         "name": "userid",
         "rawType": "int64",
         "type": "integer"
        },
        {
         "name": "movieid",
         "rawType": "int64",
         "type": "integer"
        },
        {
         "name": "rating",
         "rawType": "float64",
         "type": "float"
        },
        {
         "name": "timestamp",
         "rawType": "int64",
         "type": "integer"
        },
        {
         "name": "title",
         "rawType": "object",
         "type": "string"
        },
        {
         "name": "genres",
         "rawType": "object",
         "type": "string"
        }
       ],
       "ref": "642c0056-6bfc-4f40-9a4c-ec8d225a69de",
       "rows": [
        [
         "0",
         "1",
         "1",
         "4.0",
         "964982703",
         "Toy Story (1995)",
         "Adventure|Animation|Children|Comedy|Fantasy"
        ],
        [
         "1",
         "1",
         "3",
         "4.0",
         "964981247",
         "Grumpier Old Men (1995)",
         "Comedy|Romance"
        ],
        [
         "2",
         "1",
         "6",
         "4.0",
         "964982224",
         "Heat (1995)",
         "Action|Crime|Thriller"
        ]
       ],
       "shape": {
        "columns": 6,
        "rows": 3
       }
      },
      "text/html": [
       "<div>\n",
       "<style scoped>\n",
       "    .dataframe tbody tr th:only-of-type {\n",
       "        vertical-align: middle;\n",
       "    }\n",
       "\n",
       "    .dataframe tbody tr th {\n",
       "        vertical-align: top;\n",
       "    }\n",
       "\n",
       "    .dataframe thead th {\n",
       "        text-align: right;\n",
       "    }\n",
       "</style>\n",
       "<table border=\"1\" class=\"dataframe\">\n",
       "  <thead>\n",
       "    <tr style=\"text-align: right;\">\n",
       "      <th></th>\n",
       "      <th>userid</th>\n",
       "      <th>movieid</th>\n",
       "      <th>rating</th>\n",
       "      <th>timestamp</th>\n",
       "      <th>title</th>\n",
       "      <th>genres</th>\n",
       "    </tr>\n",
       "  </thead>\n",
       "  <tbody>\n",
       "    <tr>\n",
       "      <th>0</th>\n",
       "      <td>1</td>\n",
       "      <td>1</td>\n",
       "      <td>4.0</td>\n",
       "      <td>964982703</td>\n",
       "      <td>Toy Story (1995)</td>\n",
       "      <td>Adventure|Animation|Children|Comedy|Fantasy</td>\n",
       "    </tr>\n",
       "    <tr>\n",
       "      <th>1</th>\n",
       "      <td>1</td>\n",
       "      <td>3</td>\n",
       "      <td>4.0</td>\n",
       "      <td>964981247</td>\n",
       "      <td>Grumpier Old Men (1995)</td>\n",
       "      <td>Comedy|Romance</td>\n",
       "    </tr>\n",
       "    <tr>\n",
       "      <th>2</th>\n",
       "      <td>1</td>\n",
       "      <td>6</td>\n",
       "      <td>4.0</td>\n",
       "      <td>964982224</td>\n",
       "      <td>Heat (1995)</td>\n",
       "      <td>Action|Crime|Thriller</td>\n",
       "    </tr>\n",
       "  </tbody>\n",
       "</table>\n",
       "</div>"
      ],
      "text/plain": [
       "   userid  movieid  rating  timestamp                    title  \\\n",
       "0       1        1     4.0  964982703         Toy Story (1995)   \n",
       "1       1        3     4.0  964981247  Grumpier Old Men (1995)   \n",
       "2       1        6     4.0  964982224              Heat (1995)   \n",
       "\n",
       "                                        genres  \n",
       "0  Adventure|Animation|Children|Comedy|Fantasy  \n",
       "1                               Comedy|Romance  \n",
       "2                        Action|Crime|Thriller  "
      ]
     },
     "execution_count": 11,
     "metadata": {},
     "output_type": "execute_result"
    }
   ],
   "source": [
    "#The most important dataset is ratings\n",
    "rate_movie = pd.merge(ratings,movies, on='movieid',how='left')\n",
    "rate_movie[:3]"
   ]
  },
  {
   "cell_type": "code",
   "execution_count": 12,
   "id": "1b4645b5",
   "metadata": {},
   "outputs": [
    {
     "data": {
      "application/vnd.microsoft.datawrangler.viewer.v0+json": {
       "columns": [
        {
         "name": "index",
         "rawType": "int64",
         "type": "integer"
        },
        {
         "name": "userid",
         "rawType": "int64",
         "type": "integer"
        },
        {
         "name": "movieid",
         "rawType": "int64",
         "type": "integer"
        },
        {
         "name": "rating",
         "rawType": "float64",
         "type": "float"
        },
        {
         "name": "timestamp",
         "rawType": "int64",
         "type": "integer"
        },
        {
         "name": "title",
         "rawType": "object",
         "type": "string"
        },
        {
         "name": "genres",
         "rawType": "object",
         "type": "string"
        },
        {
         "name": "imdbid",
         "rawType": "float64",
         "type": "float"
        },
        {
         "name": "tmdbid",
         "rawType": "float64",
         "type": "float"
        }
       ],
       "ref": "2599db9d-35b4-4b93-94aa-4867553f66cc",
       "rows": [
        [
         "0",
         "1",
         "1",
         "4.0",
         "964982703",
         "Toy Story (1995)",
         "Adventure|Animation|Children|Comedy|Fantasy",
         "114709.0",
         "862.0"
        ],
        [
         "1",
         "1",
         "3",
         "4.0",
         "964981247",
         "Grumpier Old Men (1995)",
         "Comedy|Romance",
         "113228.0",
         "15602.0"
        ],
        [
         "2",
         "1",
         "6",
         "4.0",
         "964982224",
         "Heat (1995)",
         "Action|Crime|Thriller",
         "113277.0",
         "949.0"
        ]
       ],
       "shape": {
        "columns": 8,
        "rows": 3
       }
      },
      "text/html": [
       "<div>\n",
       "<style scoped>\n",
       "    .dataframe tbody tr th:only-of-type {\n",
       "        vertical-align: middle;\n",
       "    }\n",
       "\n",
       "    .dataframe tbody tr th {\n",
       "        vertical-align: top;\n",
       "    }\n",
       "\n",
       "    .dataframe thead th {\n",
       "        text-align: right;\n",
       "    }\n",
       "</style>\n",
       "<table border=\"1\" class=\"dataframe\">\n",
       "  <thead>\n",
       "    <tr style=\"text-align: right;\">\n",
       "      <th></th>\n",
       "      <th>userid</th>\n",
       "      <th>movieid</th>\n",
       "      <th>rating</th>\n",
       "      <th>timestamp</th>\n",
       "      <th>title</th>\n",
       "      <th>genres</th>\n",
       "      <th>imdbid</th>\n",
       "      <th>tmdbid</th>\n",
       "    </tr>\n",
       "  </thead>\n",
       "  <tbody>\n",
       "    <tr>\n",
       "      <th>0</th>\n",
       "      <td>1</td>\n",
       "      <td>1</td>\n",
       "      <td>4.0</td>\n",
       "      <td>964982703</td>\n",
       "      <td>Toy Story (1995)</td>\n",
       "      <td>Adventure|Animation|Children|Comedy|Fantasy</td>\n",
       "      <td>114709.0</td>\n",
       "      <td>862.0</td>\n",
       "    </tr>\n",
       "    <tr>\n",
       "      <th>1</th>\n",
       "      <td>1</td>\n",
       "      <td>3</td>\n",
       "      <td>4.0</td>\n",
       "      <td>964981247</td>\n",
       "      <td>Grumpier Old Men (1995)</td>\n",
       "      <td>Comedy|Romance</td>\n",
       "      <td>113228.0</td>\n",
       "      <td>15602.0</td>\n",
       "    </tr>\n",
       "    <tr>\n",
       "      <th>2</th>\n",
       "      <td>1</td>\n",
       "      <td>6</td>\n",
       "      <td>4.0</td>\n",
       "      <td>964982224</td>\n",
       "      <td>Heat (1995)</td>\n",
       "      <td>Action|Crime|Thriller</td>\n",
       "      <td>113277.0</td>\n",
       "      <td>949.0</td>\n",
       "    </tr>\n",
       "  </tbody>\n",
       "</table>\n",
       "</div>"
      ],
      "text/plain": [
       "   userid  movieid  rating  timestamp                    title  \\\n",
       "0       1        1     4.0  964982703         Toy Story (1995)   \n",
       "1       1        3     4.0  964981247  Grumpier Old Men (1995)   \n",
       "2       1        6     4.0  964982224              Heat (1995)   \n",
       "\n",
       "                                        genres    imdbid   tmdbid  \n",
       "0  Adventure|Animation|Children|Comedy|Fantasy  114709.0    862.0  \n",
       "1                               Comedy|Romance  113228.0  15602.0  \n",
       "2                        Action|Crime|Thriller  113277.0    949.0  "
      ]
     },
     "execution_count": 12,
     "metadata": {},
     "output_type": "execute_result"
    }
   ],
   "source": [
    "#merge rate_movie and links\n",
    "data = pd.merge(rate_movie,links,how='left',on='movieid')\n",
    "data[:3]"
   ]
  },
  {
   "cell_type": "code",
   "execution_count": 13,
   "id": "1fd18f32",
   "metadata": {},
   "outputs": [
    {
     "name": "stdout",
     "output_type": "stream",
     "text": [
      "Ratings: (100836, 4)\n",
      "Movies: (9742, 3)\n",
      "Links: (9734, 3)\n",
      "Merged Dataset: (100836, 8)\n"
     ]
    }
   ],
   "source": [
    "# Sanity check\n",
    "print(\"Ratings:\",ratings.shape)\n",
    "print(\"Movies:\",movies.shape)\n",
    "print(\"Links:\",links.shape)\n",
    "print(\"Merged Dataset:\",data.shape)"
   ]
  },
  {
   "cell_type": "code",
   "execution_count": 14,
   "id": "d9d872a7",
   "metadata": {},
   "outputs": [
    {
     "data": {
      "application/vnd.microsoft.datawrangler.viewer.v0+json": {
       "columns": [
        {
         "name": "index",
         "rawType": "object",
         "type": "string"
        },
        {
         "name": "0",
         "rawType": "int64",
         "type": "integer"
        }
       ],
       "ref": "a46e8e1c-d32d-4e2b-b5d3-bf64c5a0485f",
       "rows": [
        [
         "userid",
         "0"
        ],
        [
         "movieid",
         "0"
        ],
        [
         "rating",
         "0"
        ],
        [
         "timestamp",
         "0"
        ],
        [
         "title",
         "0"
        ],
        [
         "genres",
         "0"
        ],
        [
         "imdbid",
         "13"
        ],
        [
         "tmdbid",
         "13"
        ]
       ],
       "shape": {
        "columns": 1,
        "rows": 8
       }
      },
      "text/plain": [
       "userid        0\n",
       "movieid       0\n",
       "rating        0\n",
       "timestamp     0\n",
       "title         0\n",
       "genres        0\n",
       "imdbid       13\n",
       "tmdbid       13\n",
       "dtype: int64"
      ]
     },
     "execution_count": 14,
     "metadata": {},
     "output_type": "execute_result"
    }
   ],
   "source": [
    "# check for missing values & drop them\n",
    "data.isna().sum()\n",
    "data.dropna()\n",
    "data.isna().sum()\n",
    " # Dropped the 13 missing rows in imdbid and tmdbid"
   ]
  },
  {
   "cell_type": "code",
   "execution_count": 15,
   "id": "85a69781",
   "metadata": {},
   "outputs": [
    {
     "name": "stdout",
     "output_type": "stream",
     "text": [
      "The dataset has0 duplicates\n"
     ]
    }
   ],
   "source": [
    "#check for duplicates\n",
    "print(f\"The dataset has{data.duplicated().sum()} duplicates\")"
   ]
  },
  {
   "cell_type": "code",
   "execution_count": 16,
   "id": "316fc42e",
   "metadata": {},
   "outputs": [
    {
     "data": {
      "image/png": "[encoded data removed]",
      "text/plain": [
       "<Figure size 1000x500 with 2 Axes>"
      ]
     },
     "metadata": {},
     "output_type": "display_data"
    }
   ],
   "source": [
    "#check outliers\n",
    "num_cols = data[['rating','timestamp']]\n",
    "fig,ax = plt.subplots(ncols=2,figsize=(10,5))\n",
    "for i,col in enumerate(num_cols):\n",
    "    ax[i].boxplot(data[col])\n",
    "    ax[i].set_title(f\"Boxplot for {col}\")\n",
    "    ax[i].set_xlabel(col)"
   ]
  },
  {
   "cell_type": "markdown",
   "id": "ac12d122",
   "metadata": {},
   "source": [
    "Observation:\n",
    "- The outliers are genuine since some movies are longer than other and ratings less than 1 make sense too"
   ]
  },
  {
   "cell_type": "code",
   "execution_count": 17,
   "id": "1d5368aa",
   "metadata": {},
   "outputs": [],
   "source": [
    "# make a copy of the merged dataset\n",
    "data.to_csv('merged_clean_movies.csv',index=False)"
   ]
  },
  {
   "cell_type": "markdown",
   "id": "292c0a41",
   "metadata": {},
   "source": [
    "# Exploratory Data Analysis"
   ]
  },
  {
   "cell_type": "code",
   "execution_count": null,
   "id": "d96acc45",
   "metadata": {},
   "outputs": [],
   "source": []
  },
  {
   "cell_type": "markdown",
   "id": "d930eda0",
   "metadata": {},
   "source": [
    "# Modeling"
   ]
  },
  {
   "cell_type": "code",
   "execution_count": 18,
   "id": "4f380d3b",
   "metadata": {},
   "outputs": [],
   "source": [
    "#separate data for modeling\n",
    "ratings_data = data[['userid','movieid','rating']]\n",
    "\n",
    "#define rating scale\n",
    "reader = Reader(rating_scale=(0.5,5.0))\n",
    "\n",
    "#load into surprise dataset\n",
    "surprise_data = Dataset.load_from_df(ratings_data,reader)\n"
   ]
  },
  {
   "cell_type": "markdown",
   "id": "9090c4b4",
   "metadata": {},
   "source": [
    "### Cosine Similarity using KNN basic"
   ]
  },
  {
   "cell_type": "code",
   "execution_count": 19,
   "id": "b38f66a0",
   "metadata": {},
   "outputs": [
    {
     "name": "stdout",
     "output_type": "stream",
     "text": [
      "Computing the cosine similarity matrix...\n",
      "Done computing similarity matrix.\n",
      "Computing the cosine similarity matrix...\n",
      "Done computing similarity matrix.\n",
      "Computing the cosine similarity matrix...\n",
      "Done computing similarity matrix.\n",
      "Computing the cosine similarity matrix...\n",
      "Done computing similarity matrix.\n",
      "Computing the cosine similarity matrix...\n",
      "Done computing similarity matrix.\n",
      "Evaluating RMSE, MAE of algorithm KNNBasic on 5 split(s).\n",
      "\n",
      "                  Fold 1  Fold 2  Fold 3  Fold 4  Fold 5  Mean    Std     \n",
      "RMSE (testset)    0.9722  0.9750  0.9730  0.9772  0.9820  0.9759  0.0035  \n",
      "MAE (testset)     0.7579  0.7595  0.7588  0.7613  0.7651  0.7605  0.0026  \n",
      "Fit time          2.23    1.81    1.62    1.70    1.52    1.78    0.25    \n",
      "Test time         2.70    2.64    2.62    2.60    2.58    2.62    0.04    \n",
      "Mean CV RMSE (KNN Cosine): 0.9758804806490728\n",
      "Mean CV MAE (KNN Cosine): 0.7605125396819528\n"
     ]
    }
   ],
   "source": [
    "#define similarity options\n",
    "sim_option = {'name': 'cosine', 'user_based':False}#item-item similarity\n",
    "\n",
    "#initialize algorithm\n",
    "knn_algo = KNNBasic(sim_options=sim_option)\n",
    "\n",
    "#cross validate for knn algorithm\n",
    "cv_results_knn = cross_validate(knn_algo, surprise_data, measures=['RMSE','MAE'], cv=5, verbose=True)\n",
    "print(\"Mean CV RMSE (KNN Cosine):\", cv_results_knn['test_rmse'].mean())\n",
    "print(\"Mean CV MAE (KNN Cosine):\", cv_results_knn['test_mae'].mean())"
   ]
  },
  {
   "cell_type": "code",
   "execution_count": 20,
   "id": "a84ac8dc",
   "metadata": {},
   "outputs": [
    {
     "name": "stdout",
     "output_type": "stream",
     "text": [
      "Computing the cosine similarity matrix...\n",
      "Done computing similarity matrix.\n",
      "\n",
      "Top-5 Recommended Movies for User 196 (Cosine Similarity):\n",
      "   movieid                          title  pred_rating\n",
      "0      128          Jupiter's Wife (1994)          5.0\n",
      "1     7815            True Stories (1986)          5.0\n",
      "2     8015  Phantom Tollbooth, The (1970)          5.0\n",
      "3     3567              Bossa Nova (2000)          5.0\n",
      "4     2370     Emerald Forest, The (1985)          5.0\n"
     ]
    }
   ],
   "source": [
    "#train on full dataset\n",
    "knn_trainset = surprise_data.build_full_trainset()\n",
    "knn_algo.fit(knn_trainset)\n",
    "#predict for user 196\n",
    "# Get all movie ids from trainset\n",
    "all_items = knn_trainset.all_items()\n",
    "all_items_ids = [knn_trainset.to_raw_iid(iid) for iid in all_items]\n",
    "\n",
    "# Pick user\n",
    "user_id = 196\n",
    "predictions_knn = [knn_algo.predict(user_id, iid) for iid in all_items_ids]\n",
    "\n",
    "# Sort by estimated ratings\n",
    "top_5_knn = sorted(predictions_knn, key=lambda x: x.est, reverse=True)[:5]\n",
    "\n",
    "# Put into DataFrame with movie titles\n",
    "top_5_knn_df = pd.DataFrame([(pred.iid, round(pred.est, 2)) for pred in top_5_knn],\n",
    "                            columns=['movieid','pred_rating'])\n",
    "\n",
    "top_5_knn_with_names = top_5_knn_df.merge(movies, on='movieid')[['movieid','title','pred_rating']]\n",
    "\n",
    "print(\"\\nTop-5 Recommended Movies for User 196 (Cosine Similarity):\")\n",
    "print(top_5_knn_with_names)\n"
   ]
  },
  {
   "cell_type": "markdown",
   "id": "0ea6fba3",
   "metadata": {},
   "source": [
    "### SVD"
   ]
  },
  {
   "cell_type": "markdown",
   "id": "fe1ff740",
   "metadata": {},
   "source": [
    "1. cross validation"
   ]
  },
  {
   "cell_type": "code",
   "execution_count": 21,
   "id": "a34a3c79",
   "metadata": {},
   "outputs": [
    {
     "name": "stdout",
     "output_type": "stream",
     "text": [
      "Evaluating RMSE, MAE of algorithm SVD on 5 split(s).\n",
      "\n",
      "                  Fold 1  Fold 2  Fold 3  Fold 4  Fold 5  Mean    Std     \n",
      "RMSE (testset)    0.8737  0.8804  0.8752  0.8726  0.8699  0.8744  0.0035  \n",
      "MAE (testset)     0.6727  0.6739  0.6716  0.6728  0.6667  0.6715  0.0025  \n",
      "Fit time          0.45    0.47    0.45    0.45    0.44    0.45    0.01    \n",
      "Test time         0.10    0.05    0.10    0.05    0.10    0.08    0.02    \n",
      "Mean CV RMSE (SVD): 0.8743530555358074\n",
      "Mean CV MAE (SVD): 0.6715341723939634\n"
     ]
    }
   ],
   "source": [
    "#instantiate the model\n",
    "algo = SVD()\n",
    "\n",
    "#split the dataset\n",
    "cv_svd = cross_validate(algo,surprise_data,measures=['RMSE','MAE'],cv=5,verbose=True)\n",
    "print(\"Mean CV RMSE (SVD):\", cv_svd['test_rmse'].mean())\n",
    "print(\"Mean CV MAE (SVD):\", cv_svd['test_mae'].mean())\n",
    "\n",
    "\n",
    "# cross validation in surprise handles training and evaluation internally\n"
   ]
  },
  {
   "cell_type": "markdown",
   "id": "b841d0d2",
   "metadata": {},
   "source": [
    "Preach babygirl:\n",
    "- the default parameters for SVD are:\n",
    "1. n_factors=100 number of latent features(Hidden patterns)\n",
    "2. n_epochs=20   number of iterations.\n",
    "3. lr_all=0.005  learning rate for gradient descent.\n",
    "4. reg_all=0.02  regularization strength(controls overfitting)\n",
    "\n",
    "- We split the dataset to 5 folds; train 4 and test 1. Then repeat 5 times\n",
    "- Our RMSE are approx 0.9 meaning our predictions are on avg 0.9 stars off from true ratings \n",
    "\n",
    "* high n_factors prevents overfitting and cancels noise and vice versa for low n_factors"
   ]
  },
  {
   "cell_type": "code",
   "execution_count": 22,
   "id": "6219c58f",
   "metadata": {},
   "outputs": [
    {
     "name": "stdout",
     "output_type": "stream",
     "text": [
      "single prediction:\n",
      " user: 196        item: 302        r_ui = None   est = 3.47   {'was_impossible': False}\n"
     ]
    }
   ],
   "source": [
    "#train and predict the cv dataset\n",
    "cv_trainset = surprise_data.build_full_trainset()\n",
    "algo.fit(cv_trainset)\n",
    "\n",
    "#predict rating for user 196 on item 302\n",
    "pred = algo.predict(uid=196,iid=302)\n",
    "print('single prediction:\\n',pred)"
   ]
  },
  {
   "cell_type": "markdown",
   "id": "8902c956",
   "metadata": {},
   "source": [
    "Hubiri mwandada:\n",
    "- We build the trainset using all available ratings\n",
    "- Fit learns all user and items latent factors\n",
    "- uid: user id\n",
    "- iid: item id\n",
    "- r_ui = None: rating from user id missing\n",
    "- we estimate the rating will be 3.53\n",
    "- 'was_impossible':False shows the prediction was possible\n",
    "observation:\n",
    "- We predict that user 196 will rate movie 302 3.53"
   ]
  },
  {
   "cell_type": "markdown",
   "id": "5a32fe4d",
   "metadata": {},
   "source": [
    "2. train test split"
   ]
  },
  {
   "cell_type": "code",
   "execution_count": 23,
   "id": "e884dbf0",
   "metadata": {},
   "outputs": [
    {
     "name": "stdout",
     "output_type": "stream",
     "text": [
      "RMSE: 0.8801\n"
     ]
    },
    {
     "data": {
      "text/plain": [
       "0.8800965241312406"
      ]
     },
     "execution_count": 23,
     "metadata": {},
     "output_type": "execute_result"
    }
   ],
   "source": [
    "#split the datset using train test split\n",
    "trainset, testset = train_test_split(surprise_data,test_size=0.2,random_state=42)\n",
    "\n",
    "#train the model\n",
    "algo.fit(trainset)\n",
    "\n",
    "#predict \n",
    "predictions = algo.test(testset)\n",
    "accuracy.rmse(predictions)"
   ]
  },
  {
   "cell_type": "markdown",
   "id": "2999c89f",
   "metadata": {},
   "source": [
    "## Making recommendations"
   ]
  },
  {
   "cell_type": "code",
   "execution_count": 24,
   "id": "afe36aaa",
   "metadata": {},
   "outputs": [
    {
     "name": "stdout",
     "output_type": "stream",
     "text": [
      "Top-5 Recommended Movies for User 196:\n",
      "   movieid                                            title  pred_rating\n",
      "0      296                              Pulp Fiction (1994)         4.66\n",
      "1     1223  Grand Day Out with Wallace and Gromit, A (1989)         4.61\n",
      "2     1204                        Lawrence of Arabia (1962)         4.60\n",
      "3     1261               Evil Dead II (Dead by Dawn) (1987)         4.60\n",
      "4      858                            Godfather, The (1972)         4.60\n"
     ]
    }
   ],
   "source": [
    "#getting all movie ids\n",
    "all_items = cv_trainset.all_items()\n",
    "all_items_ids = [cv_trainset.to_raw_iid(iid) for iid in all_items]\n",
    "\n",
    "#recommend top 5 movies to user 196\n",
    "user_id = 196\n",
    "predictions = [algo.predict(user_id,iid) for iid in all_items_ids]\n",
    "\n",
    "#sort by estimated ratings\n",
    "top_5 = sorted(predictions, key=lambda x: x.est, reverse=True)[:5]\n",
    "\n",
    "# Convert predictions to DataFrame\n",
    "top_5_df = pd.DataFrame(\n",
    "    [(int(pred.iid), round(pred.est, 2)) for pred in top_5],\n",
    "    columns=['movieid', 'pred_rating'])\n",
    "\n",
    "# Merge with movies dataframe to get titles\n",
    "top_5_with_names = top_5_df.merge(movies, on='movieid')[['movieid', 'title', 'pred_rating']]\n",
    "\n",
    "print(\"Top-5 Recommended Movies for User 196:\")\n",
    "print(top_5_with_names)"
   ]
  },
  {
   "cell_type": "markdown",
   "id": "e5292b5c",
   "metadata": {},
   "source": [
    "Observations:\n",
    "1. (Performance)\n",
    "    *SVD has less RMSE and MAE, making it a better model compared to knn(cosine)\n",
    "    * interpretability, scalability and context should also be considered\n",
    "2. it is easier to interprete KNN(cosine)\n",
    "    * “We recommend Movie B because it’s similar to Movie A you liked.” item-item\n",
    "    * \"We recommend movie C since other users liked a movie you liked.\" user-user\n",
    "3. Data sparcity in user-user cosine\n",
    "    * most users have too few overlapping ratings while Item-item cosine is more stable (movies get lots of ratings).\n",
    "4. Although Cosine recommends movies with 5 ratings, it could be overfitting and similar to what was already rated by a user\n",
    "    * SVD's predicted ratings are more balanced and consider hidden factors\n",
    "\n",
    "- SVD encourages discovery, cosine encourages familiarity."
   ]
  },
  {
   "cell_type": "markdown",
   "id": "c3976e2b",
   "metadata": {},
   "source": [
    "# Executive Summary\n",
    "\n",
    "This project presents a personalized movie recommendation system developed for AfroTech Company, a streaming technology provider aiming to improve user engagement and content discovery. The system is designed to address the challenges users face in finding relevant content within large movie libraries.\n",
    "\n",
    "Using collaborative filtering methods—specifically Singular Value Decomposition (SVD) combined with Least Squares Optimization—the system analyzes historical user ratings to uncover latent preferences and predict unseen ratings. This approach enables AfroTech to deliver data-driven, tailored movie recommendations that align with individual user tastes.\n",
    "\n",
    "The project follows a structured pipeline including data preparation, matrix construction, model training, and evaluation. Success is measured through key performance indicators such as prediction accuracy (RMSE and MAE), recommendation coverage, and simulated engagement metrics like click-through rate and retention.\n",
    "\n",
    "By the end of this project, AfroTech will have a functional and scalable recommendation engine prototype that supports its goal of enhancing the user experience through intelligent, personalized recommendations.\n"
   ]
  }
 ],
 "metadata": {
  "kernelspec": {
   "display_name": "learn-env",
   "language": "python",
   "name": "python3"
  },
  "language_info": {
   "codemirror_mode": {
    "name": "ipython",
    "version": 3
   },
   "file_extension": ".py",
   "mimetype": "text/x-python",
   "name": "python",
   "nbconvert_exporter": "python",
   "pygments_lexer": "ipython3",
   "version": "3.9.19"
  }
 },
 "nbformat": 4,
 "nbformat_minor": 5
}
